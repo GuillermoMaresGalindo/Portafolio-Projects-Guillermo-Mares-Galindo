{
 "cells": [
  {
   "cell_type": "code",
   "execution_count": 16,
   "metadata": {},
   "outputs": [],
   "source": [
    "import pandas as pd\n",
    "import numpy as np"
   ]
  },
  {
   "cell_type": "code",
   "execution_count": 18,
   "metadata": {},
   "outputs": [],
   "source": [
    "data=pd.read_csv(\"CompleteResponses.csv\")"
   ]
  },
  {
   "cell_type": "code",
   "execution_count": 22,
   "metadata": {},
   "outputs": [
    {
     "data": {
      "text/html": [
       "<div>\n",
       "<style scoped>\n",
       "    .dataframe tbody tr th:only-of-type {\n",
       "        vertical-align: middle;\n",
       "    }\n",
       "\n",
       "    .dataframe tbody tr th {\n",
       "        vertical-align: top;\n",
       "    }\n",
       "\n",
       "    .dataframe thead th {\n",
       "        text-align: right;\n",
       "    }\n",
       "</style>\n",
       "<table border=\"1\" class=\"dataframe\">\n",
       "  <thead>\n",
       "    <tr style=\"text-align: right;\">\n",
       "      <th></th>\n",
       "      <th>salary</th>\n",
       "      <th>age</th>\n",
       "      <th>elevel</th>\n",
       "      <th>car</th>\n",
       "      <th>zipcode</th>\n",
       "      <th>credit</th>\n",
       "      <th>brand</th>\n",
       "    </tr>\n",
       "  </thead>\n",
       "  <tbody>\n",
       "    <tr>\n",
       "      <th>0</th>\n",
       "      <td>119806.54480</td>\n",
       "      <td>45</td>\n",
       "      <td>Less than High School Degree</td>\n",
       "      <td>14</td>\n",
       "      <td>4</td>\n",
       "      <td>442037.71130</td>\n",
       "      <td>0</td>\n",
       "    </tr>\n",
       "    <tr>\n",
       "      <th>1</th>\n",
       "      <td>106880.47840</td>\n",
       "      <td>63</td>\n",
       "      <td>High School Degree</td>\n",
       "      <td>11</td>\n",
       "      <td>6</td>\n",
       "      <td>45007.17883</td>\n",
       "      <td>1</td>\n",
       "    </tr>\n",
       "    <tr>\n",
       "      <th>2</th>\n",
       "      <td>78020.75094</td>\n",
       "      <td>23</td>\n",
       "      <td>Less than High School Degree</td>\n",
       "      <td>15</td>\n",
       "      <td>2</td>\n",
       "      <td>48795.32279</td>\n",
       "      <td>0</td>\n",
       "    </tr>\n",
       "    <tr>\n",
       "      <th>3</th>\n",
       "      <td>63689.93635</td>\n",
       "      <td>51</td>\n",
       "      <td>4-Year College Degree</td>\n",
       "      <td>6</td>\n",
       "      <td>5</td>\n",
       "      <td>40888.87736</td>\n",
       "      <td>1</td>\n",
       "    </tr>\n",
       "    <tr>\n",
       "      <th>4</th>\n",
       "      <td>50873.61880</td>\n",
       "      <td>20</td>\n",
       "      <td>4-Year College Degree</td>\n",
       "      <td>14</td>\n",
       "      <td>4</td>\n",
       "      <td>352951.49770</td>\n",
       "      <td>0</td>\n",
       "    </tr>\n",
       "  </tbody>\n",
       "</table>\n",
       "</div>"
      ],
      "text/plain": [
       "         salary  age                        elevel  car  zipcode  \\\n",
       "0  119806.54480   45  Less than High School Degree   14        4   \n",
       "1  106880.47840   63            High School Degree   11        6   \n",
       "2   78020.75094   23  Less than High School Degree   15        2   \n",
       "3   63689.93635   51         4-Year College Degree    6        5   \n",
       "4   50873.61880   20         4-Year College Degree   14        4   \n",
       "\n",
       "         credit  brand  \n",
       "0  442037.71130      0  \n",
       "1   45007.17883      1  \n",
       "2   48795.32279      0  \n",
       "3   40888.87736      1  \n",
       "4  352951.49770      0  "
      ]
     },
     "execution_count": 22,
     "metadata": {},
     "output_type": "execute_result"
    }
   ],
   "source": [
    "data.head()"
   ]
  },
  {
   "cell_type": "code",
   "execution_count": 20,
   "metadata": {},
   "outputs": [],
   "source": [
    "data.elevel = data.elevel.replace({\n",
    "    0: 'Less than High School Degree',\n",
    "    1: 'High School Degree',\n",
    "    2: 'Some College',\n",
    "    3: '4-Year College Degree',\n",
    "    4: 'Master\\'s, Doctoral or Professional Degree'\n",
    "})"
   ]
  },
  {
   "cell_type": "code",
   "execution_count": 23,
   "metadata": {},
   "outputs": [],
   "source": [
    "data.car = data.car.replace({\n",
    "    1: 'BMW',\n",
    "    2: 'Buick',\n",
    "    3: 'Cadillac',\n",
    "    4: 'Chevrolet',\n",
    "    5: 'Chrysler',\n",
    "    6: 'Dodge',\n",
    "    7: 'Ford',\n",
    "    8: 'Honda',\n",
    "    9: 'Hyundai',\n",
    "    10: 'Jeep',\n",
    "    11: 'Kia',\n",
    "    12: 'Lincoln',\n",
    "    13: 'Mazda',\n",
    "    14: 'Mercedes Benz',\n",
    "    15: 'Mitsubishi',\n",
    "    16: 'Nissan',\n",
    "    17: 'Ram',\n",
    "    18: 'Subaru',\n",
    "    19: 'Toyota',\n",
    "    20: 'None of the above'\n",
    "})"
   ]
  },
  {
   "cell_type": "code",
   "execution_count": 24,
   "metadata": {},
   "outputs": [],
   "source": [
    "data.zipcode = data.zipcode.replace({\n",
    "    0: 'New England',\n",
    "    1: 'Mid-Atlantic',\n",
    "    2: 'East North Central',\n",
    "    3: 'West North Central',\n",
    "    4: 'South Atlantic',\n",
    "    5: 'East South Central',\n",
    "    6: 'West South Central',\n",
    "    7: 'Mountain',\n",
    "    8: 'Pacific'\n",
    "})"
   ]
  },
  {
   "cell_type": "code",
   "execution_count": 26,
   "metadata": {},
   "outputs": [],
   "source": [
    "data.brand = data.brand.replace({\n",
    "    0: 'Acer',\n",
    "    1: 'Sony'\n",
    "})"
   ]
  },
  {
   "cell_type": "code",
   "execution_count": 28,
   "metadata": {},
   "outputs": [],
   "source": [
    "data.to_csv(\"CompleteResponses_full.csv\", index=False)"
   ]
  }
 ],
 "metadata": {
  "kernelspec": {
   "display_name": "venv",
   "language": "python",
   "name": "python3"
  },
  "language_info": {
   "codemirror_mode": {
    "name": "ipython",
    "version": 3
   },
   "file_extension": ".py",
   "mimetype": "text/x-python",
   "name": "python",
   "nbconvert_exporter": "python",
   "pygments_lexer": "ipython3",
   "version": "3.10.0"
  }
 },
 "nbformat": 4,
 "nbformat_minor": 2
}
