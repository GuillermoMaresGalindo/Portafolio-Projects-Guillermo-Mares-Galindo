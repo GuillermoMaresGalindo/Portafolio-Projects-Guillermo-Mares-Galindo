{
 "cells": [
  {
   "cell_type": "markdown",
   "metadata": {},
   "source": [
    "# Tableau Project\n",
    "\n",
    "## Step 1: Analysis Requirement\n",
    "- Collect Requirements\n",
    "- Choose right charts\n",
    "- Draw Mockups\n",
    "- Choose Colors\n",
    "\n",
    "## Step 2: Build Data Source\n",
    "- Connect data\n",
    "- Create data model\n",
    "- Rename fields and tables\n",
    "- Check data types\n",
    "- Understand data\n",
    "\n",
    "## Step 3: Build Charts\n",
    "- Create calculated fields & test\n",
    "- Build chart\n",
    "- Format\n",
    "  - Remove lines & grids\n",
    "  - Cleanup axis & headers\n",
    "- Coloring\n",
    "- Tooltips\n",
    "\n",
    "## Step 4: Building Dashboard\n",
    "- Draw Mockup for container\n",
    "- Create container structure\n",
    "- Put all charts together\n",
    "- Format\n",
    "  - Distribute objects evenly\n",
    "  - Format colors, size, etc.\n",
    "  - Fit \"Entire View\"\n",
    "- Add filters & dynamic elements\n",
    "- Add icons\n"
   ]
  },
  {
   "cell_type": "markdown",
   "metadata": {},
   "source": [
    "# Introduction\n",
    "This user story outlines the specifications for building two dashboards using Tableau to help stakeholders, including sales managers and executives, to analyze sales performance and customers.\n",
    "\n",
    "## Sales Dashboard | Requirements\n",
    "\n",
    "### Dashboard Purpose\n",
    "The purpose of the sales dashboard is to present an overview of the sales metrics and trends to analyze year-over-year sales performance and understand sales trends.\n",
    "\n",
    "### Key Requirements\n",
    "\n",
    "#### KPI Overview\n",
    "- Display a summary of total sales, profits, and quantity for the current year and the previous year.\n",
    "\n",
    "#### Sales Trends\n",
    "- Present the data for each KPI on a monthly basis for both the current year and the previous year.\n",
    "- Identify months with the highest and lowest sales and make them easy to recognize.\n",
    "\n",
    "#### Product Subcategory Comparison\n",
    "- Compare sales performance by different product subcategories for the current year and the previous year.\n",
    "- Include a comparison of sales with profit.\n",
    "\n",
    "#### Weekly Trends for Sales & Profit\n",
    "- Present weekly sales and profit data for the current year.\n",
    "- Display the average weekly values.\n",
    "- Highlight weeks that are above and below the average to draw attention to sales & profit performance.\n"
   ]
  },
  {
   "cell_type": "markdown",
   "metadata": {},
   "source": [
    "## Customer Dashboard | Requirements\n",
    "\n",
    "### Dashboard Purpose\n",
    "The customer dashboard aims to provide an overview of customer data, trends, and behaviors. It will help marketing teams and management understand customer segments and improve customer satisfaction.\n",
    "\n",
    "### Key Requirements\n",
    "\n",
    "#### KPI Overview\n",
    "- Display a summary of the total number of customers, total sales per customer, and the total number of orders for the current year and the previous year.\n",
    "\n",
    "#### Customer Trends\n",
    "- Present the data for each KPI on a monthly basis for both the current year and the previous year.\n",
    "- Identify months with the highest and lowest sales and make them easy to recognize.\n",
    "\n",
    "#### Customer Distribution by Number of Orders\n",
    "- Represent the distribution of customers based on the number of orders they have placed to provide insights into customer behavior, loyalty, and engagement.\n",
    "\n",
    "#### Top 10 Customers by Profit\n",
    "- Present the top 10 customers who have generated the highest profits for the company.\n",
    "- Show additional information like rank, number of orders, current sales, current profit, and the last order date.\n"
   ]
  },
  {
   "cell_type": "markdown",
   "metadata": {},
   "source": [
    "## Design & Interactivity Requirements\n",
    "\n",
    "### Dashboard Dynamic\n",
    "- The dashboard should allow users to check historical data by offering them the flexibility to select any desired year.\n",
    "- Provide users with the ability to navigate between the dashboards easily.\n",
    "- Make the charts and graphs interactive, enabling users to filter data using the charts.\n",
    "\n",
    "### Data Filters\n",
    "- Allow users to filter data by product information like category and subcategory and by location information like region, state, and city."
   ]
  },
  {
   "cell_type": "markdown",
   "metadata": {},
   "source": []
  }
 ],
 "metadata": {
  "language_info": {
   "name": "python"
  }
 },
 "nbformat": 4,
 "nbformat_minor": 2
}
